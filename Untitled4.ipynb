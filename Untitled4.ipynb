{
 "cells": [
  {
   "cell_type": "markdown",
   "id": "b11fe86e",
   "metadata": {},
   "source": [
    "# Brief Introduction to Pairs Trading\n",
    "The goal of any trading stratergy is to maximise profits while minimising risks. Pairs trading is the simplest form of statistical arbitrage, summarised in one sentence: 'Buy (Long) asset that is undervalued and sell (Short) asset that is overvalued'. The underlying assumtion is that the pairs of stock traded in the stratergy, have shown 'similarities in their behaviours' which will almost always converge in the long run, even if they diverge in the short-term. \n",
    "\n",
    "Identifying 'correlated' stocks thorugh data processing/ cleansing and hypothesis testing is prioritised over anything else in Pairs Trading. Failiure to do so would yield spurcious relationship between stock pairs, arriving at a non-profitable stratergy. \n",
    "\n",
    "# Methodology\n",
    "The dataset used in this investigation is sourced from Yahoo Finance using the yfinance Python package, which interacts with Yahoo's API to retrieve historical and real time stock data. We shall only focus on stocks that are included in the FTSE 100, 250 and 350 index, as it encompasses the 350 largest companies listed on the London Stock Exchange. \n",
    "There are several advantages to the choice: \n",
    "1. ** Sufficient Liquidity:** These stocks have higher trading volumes than small cap stocks, which means that the bid-ask spread and latency of execution could be minimised.\n",
    "2. ** Avioding 'Small Cap Trap':** Trading small cap stocks, even at the small volume could potentially result in unpredictable effects on their prices, rendering the whole stratergy useless\n",
    "\n",
    "# Importing Data\n",
    "The dataset concerned in this investigation are stocks selected in FTSE 100, FTSE 250, FTSE 350, which represents about 90% of the total market shares of the UK equity market. Data are obtianed via Yahoo Finance through the use of the Yfinance Python Package. \n",
    "1. **Training Data Set:** Data from 2010/01/01 to 2015/12/31 is used for clustering and training the trading model\n",
    "2. **Back-testing Data set:** Data from 2016/01/01 to 2023/12/31 is used to backtest the model\n",
    "\n",
    "Please note that while it is possible to implement the concurrent.futures package to run multiple downloads in parallel, it is not done so in my code as Yahoo Finance's Public API (without authentication) limits user to 2,000 requests per hour per IP (or up to a total of 48,000 requests a day), which the concurrent package is shown to exceed, leading to a temporary ban from access."
   ]
  },
  {
   "cell_type": "code",
   "execution_count": null,
   "id": "49083956-df3e-4166-a1c5-714958b6c3b3",
   "metadata": {},
   "outputs": [],
   "source": [
    "#Import all required packages\n",
    "\n",
    "import numpy as np\n",
    "import pandas as pd\n",
    "import yfinance as yf\n",
    "from statsmodels.tsa.stattools import coint\n",
    "import matplotlib.pyplot as plt"
   ]
  },
  {
   "cell_type": "code",
   "execution_count": null,
   "id": "9dc4b6ca",
   "metadata": {},
   "outputs": [
    {
     "name": "stdout",
     "output_type": "stream",
     "text": [
      "Downloading data for ADM...\n"
     ]
    },
    {
     "name": "stderr",
     "output_type": "stream",
     "text": [
      "[*********************100%***********************]  1 of 1 completed\n",
      "\n",
      "1 Failed download:\n",
      "['ADM']: JSONDecodeError('Expecting value: line 1 column 1 (char 0)')\n"
     ]
    },
    {
     "name": "stdout",
     "output_type": "stream",
     "text": [
      "Downloading data for AAF...\n"
     ]
    },
    {
     "name": "stderr",
     "output_type": "stream",
     "text": [
      "[*********************100%***********************]  1 of 1 completed\n",
      "\n",
      "1 Failed download:\n",
      "['AAF']: JSONDecodeError('Expecting value: line 1 column 1 (char 0)')\n"
     ]
    },
    {
     "name": "stdout",
     "output_type": "stream",
     "text": [
      "Downloading data for ALW...\n"
     ]
    },
    {
     "name": "stderr",
     "output_type": "stream",
     "text": [
      "[*********************100%***********************]  1 of 1 completed\n",
      "\n",
      "1 Failed download:\n",
      "['ALW']: JSONDecodeError('Expecting value: line 1 column 1 (char 0)')\n"
     ]
    },
    {
     "name": "stdout",
     "output_type": "stream",
     "text": [
      "Downloading data for AAL...\n"
     ]
    },
    {
     "name": "stderr",
     "output_type": "stream",
     "text": [
      "[*********************100%***********************]  1 of 1 completed\n",
      "\n",
      "1 Failed download:\n",
      "['AAL']: JSONDecodeError('Expecting value: line 1 column 1 (char 0)')\n"
     ]
    },
    {
     "name": "stdout",
     "output_type": "stream",
     "text": [
      "Downloading data for ANTO...\n"
     ]
    },
    {
     "name": "stderr",
     "output_type": "stream",
     "text": [
      "Failed to get ticker 'ANTO' reason: Expecting value: line 1 column 1 (char 0)\n",
      "[*********************100%***********************]  1 of 1 completed\n",
      "\n",
      "1 Failed download:\n",
      "['ANTO']: YFTzMissingError('$%ticker%: possibly delisted; no timezone found')\n"
     ]
    },
    {
     "name": "stdout",
     "output_type": "stream",
     "text": [
      "Downloading data for AHT...\n"
     ]
    },
    {
     "name": "stderr",
     "output_type": "stream",
     "text": [
      "[*********************100%***********************]  1 of 1 completed\n",
      "\n",
      "1 Failed download:\n",
      "['AHT']: JSONDecodeError('Expecting value: line 1 column 1 (char 0)')\n"
     ]
    },
    {
     "name": "stdout",
     "output_type": "stream",
     "text": [
      "Downloading data for ABF...\n"
     ]
    },
    {
     "name": "stderr",
     "output_type": "stream",
     "text": [
      "[*********************100%***********************]  1 of 1 completed\n",
      "\n",
      "1 Failed download:\n",
      "['ABF']: JSONDecodeError('Expecting value: line 1 column 1 (char 0)')\n"
     ]
    },
    {
     "name": "stdout",
     "output_type": "stream",
     "text": [
      "Downloading data for AZN...\n"
     ]
    },
    {
     "name": "stderr",
     "output_type": "stream",
     "text": [
      "[*********************100%***********************]  1 of 1 completed\n",
      "\n",
      "1 Failed download:\n",
      "['AZN']: JSONDecodeError('Expecting value: line 1 column 1 (char 0)')\n"
     ]
    },
    {
     "name": "stdout",
     "output_type": "stream",
     "text": [
      "Downloading data for AUTO...\n"
     ]
    },
    {
     "name": "stderr",
     "output_type": "stream",
     "text": [
      "Failed to get ticker 'AUTO' reason: Expecting value: line 1 column 1 (char 0)\n",
      "[*********************100%***********************]  1 of 1 completed\n",
      "\n",
      "1 Failed download:\n",
      "['AUTO']: YFTzMissingError('$%ticker%: possibly delisted; no timezone found')\n"
     ]
    },
    {
     "name": "stdout",
     "output_type": "stream",
     "text": [
      "Downloading data for AV...\n"
     ]
    },
    {
     "name": "stderr",
     "output_type": "stream",
     "text": [
      "[*********************100%***********************]  1 of 1 completed\n",
      "\n",
      "1 Failed download:\n",
      "['AV']: JSONDecodeError('Expecting value: line 1 column 1 (char 0)')\n"
     ]
    },
    {
     "name": "stdout",
     "output_type": "stream",
     "text": [
      "Downloading data for BA...\n"
     ]
    },
    {
     "name": "stderr",
     "output_type": "stream",
     "text": [
      "[*********************100%***********************]  1 of 1 completed\n",
      "\n",
      "1 Failed download:\n",
      "['BA']: JSONDecodeError('Expecting value: line 1 column 1 (char 0)')\n"
     ]
    },
    {
     "name": "stdout",
     "output_type": "stream",
     "text": [
      "Downloading data for BARC...\n"
     ]
    },
    {
     "name": "stderr",
     "output_type": "stream",
     "text": [
      "Failed to get ticker 'BARC' reason: Expecting value: line 1 column 1 (char 0)\n",
      "[*********************100%***********************]  1 of 1 completed\n",
      "\n",
      "1 Failed download:\n",
      "['BARC']: YFTzMissingError('$%ticker%: possibly delisted; no timezone found')\n"
     ]
    },
    {
     "name": "stdout",
     "output_type": "stream",
     "text": [
      "Downloading data for BTRW...\n"
     ]
    },
    {
     "name": "stderr",
     "output_type": "stream",
     "text": [
      "Failed to get ticker 'BTRW' reason: Expecting value: line 1 column 1 (char 0)\n",
      "[*********************100%***********************]  1 of 1 completed\n",
      "\n",
      "1 Failed download:\n",
      "['BTRW']: YFTzMissingError('$%ticker%: possibly delisted; no timezone found')\n"
     ]
    },
    {
     "name": "stdout",
     "output_type": "stream",
     "text": [
      "Downloading data for BEZ...\n"
     ]
    },
    {
     "name": "stderr",
     "output_type": "stream",
     "text": [
      "[*********************100%***********************]  1 of 1 completed\n",
      "\n",
      "1 Failed download:\n",
      "['BEZ']: JSONDecodeError('Expecting value: line 1 column 1 (char 0)')\n"
     ]
    },
    {
     "name": "stdout",
     "output_type": "stream",
     "text": [
      "Downloading data for BKG...\n"
     ]
    },
    {
     "name": "stderr",
     "output_type": "stream",
     "text": [
      "[*********************100%***********************]  1 of 1 completed\n",
      "\n",
      "1 Failed download:\n",
      "['BKG']: JSONDecodeError('Expecting value: line 1 column 1 (char 0)')\n"
     ]
    },
    {
     "name": "stdout",
     "output_type": "stream",
     "text": [
      "Downloading data for BP...\n"
     ]
    },
    {
     "name": "stderr",
     "output_type": "stream",
     "text": [
      "[*********************100%***********************]  1 of 1 completed\n",
      "\n",
      "1 Failed download:\n",
      "['BP']: JSONDecodeError('Expecting value: line 1 column 1 (char 0)')\n"
     ]
    },
    {
     "name": "stdout",
     "output_type": "stream",
     "text": [
      "Downloading data for BATS...\n"
     ]
    },
    {
     "name": "stderr",
     "output_type": "stream",
     "text": [
      "[*********************100%***********************]  1 of 1 completed\n",
      "\n",
      "1 Failed download:\n",
      "['BATS']: JSONDecodeError('Expecting value: line 1 column 1 (char 0)')\n"
     ]
    },
    {
     "name": "stdout",
     "output_type": "stream",
     "text": [
      "Downloading data for BLND...\n"
     ]
    },
    {
     "name": "stderr",
     "output_type": "stream",
     "text": [
      "[*********************100%***********************]  1 of 1 completed\n",
      "\n",
      "1 Failed download:\n",
      "['BLND']: JSONDecodeError('Expecting value: line 1 column 1 (char 0)')\n"
     ]
    },
    {
     "name": "stdout",
     "output_type": "stream",
     "text": [
      "Downloading data for BT-A...\n"
     ]
    },
    {
     "name": "stderr",
     "output_type": "stream",
     "text": [
      "Failed to get ticker 'BT-A' reason: Expecting value: line 1 column 1 (char 0)\n",
      "[*********************100%***********************]  1 of 1 completed\n",
      "\n",
      "1 Failed download:\n",
      "['BT-A']: YFTzMissingError('$%ticker%: possibly delisted; no timezone found')\n"
     ]
    },
    {
     "name": "stdout",
     "output_type": "stream",
     "text": [
      "Downloading data for BNZL...\n"
     ]
    },
    {
     "name": "stderr",
     "output_type": "stream",
     "text": [
      "Failed to get ticker 'BNZL' reason: Expecting value: line 1 column 1 (char 0)\n",
      "[*********************100%***********************]  1 of 1 completed\n",
      "\n",
      "1 Failed download:\n",
      "['BNZL']: YFTzMissingError('$%ticker%: possibly delisted; no timezone found')\n"
     ]
    },
    {
     "name": "stdout",
     "output_type": "stream",
     "text": [
      "Downloading data for CNA...\n"
     ]
    },
    {
     "name": "stderr",
     "output_type": "stream",
     "text": [
      "[*********************100%***********************]  1 of 1 completed\n",
      "\n",
      "1 Failed download:\n",
      "['CNA']: JSONDecodeError('Expecting value: line 1 column 1 (char 0)')\n"
     ]
    },
    {
     "name": "stdout",
     "output_type": "stream",
     "text": [
      "Downloading data for CCH...\n"
     ]
    },
    {
     "name": "stderr",
     "output_type": "stream",
     "text": [
      "Failed to get ticker 'CCH' reason: Expecting value: line 1 column 1 (char 0)\n",
      "[*********************100%***********************]  1 of 1 completed\n",
      "\n",
      "1 Failed download:\n",
      "['CCH']: YFTzMissingError('$%ticker%: possibly delisted; no timezone found')\n",
      "Failed to get ticker 'CPG' reason: Expecting value: line 1 column 1 (char 0)\n",
      "[*********************100%***********************]  1 of 1 completed\n",
      "\n",
      "1 Failed download:\n",
      "['CPG']: YFTzMissingError('$%ticker%: possibly delisted; no timezone found')\n"
     ]
    },
    {
     "name": "stdout",
     "output_type": "stream",
     "text": [
      "Downloading data for CPG...\n",
      "Downloading data for CTEC...\n"
     ]
    },
    {
     "name": "stderr",
     "output_type": "stream",
     "text": [
      "[*********************100%***********************]  1 of 1 completed\n",
      "\n",
      "1 Failed download:\n",
      "['CTEC']: JSONDecodeError('Expecting value: line 1 column 1 (char 0)')\n"
     ]
    },
    {
     "name": "stdout",
     "output_type": "stream",
     "text": [
      "Downloading data for CRDA...\n"
     ]
    },
    {
     "name": "stderr",
     "output_type": "stream",
     "text": [
      "[*********************100%***********************]  1 of 1 completed\n",
      "\n",
      "1 Failed download:\n",
      "['CRDA']: JSONDecodeError('Expecting value: line 1 column 1 (char 0)')\n"
     ]
    },
    {
     "name": "stdout",
     "output_type": "stream",
     "text": [
      "Downloading data for DCC...\n"
     ]
    },
    {
     "name": "stderr",
     "output_type": "stream",
     "text": [
      "[*********************100%***********************]  1 of 1 completed\n",
      "\n",
      "1 Failed download:\n",
      "['DCC']: JSONDecodeError('Expecting value: line 1 column 1 (char 0)')\n"
     ]
    },
    {
     "name": "stdout",
     "output_type": "stream",
     "text": [
      "Downloading data for DGE...\n"
     ]
    },
    {
     "name": "stderr",
     "output_type": "stream",
     "text": [
      "[*********************100%***********************]  1 of 1 completed\n",
      "\n",
      "1 Failed download:\n",
      "['DGE']: JSONDecodeError('Expecting value: line 1 column 1 (char 0)')\n"
     ]
    },
    {
     "name": "stdout",
     "output_type": "stream",
     "text": [
      "Downloading data for DPLM...\n"
     ]
    },
    {
     "name": "stderr",
     "output_type": "stream",
     "text": [
      "Failed to get ticker 'DPLM' reason: Expecting value: line 1 column 1 (char 0)\n",
      "[*********************100%***********************]  1 of 1 completed\n",
      "\n",
      "1 Failed download:\n",
      "['DPLM']: YFTzMissingError('$%ticker%: possibly delisted; no timezone found')\n"
     ]
    },
    {
     "name": "stdout",
     "output_type": "stream",
     "text": [
      "Downloading data for EDV...\n"
     ]
    },
    {
     "name": "stderr",
     "output_type": "stream",
     "text": [
      "[*********************100%***********************]  1 of 1 completed\n",
      "\n",
      "1 Failed download:\n",
      "['EDV']: JSONDecodeError('Expecting value: line 1 column 1 (char 0)')\n"
     ]
    },
    {
     "name": "stdout",
     "output_type": "stream",
     "text": [
      "Downloading data for ENT...\n"
     ]
    },
    {
     "name": "stderr",
     "output_type": "stream",
     "text": [
      "Failed to get ticker 'ENT' reason: Expecting value: line 1 column 1 (char 0)\n",
      "[*********************100%***********************]  1 of 1 completed\n",
      "\n",
      "1 Failed download:\n",
      "['ENT']: YFTzMissingError('$%ticker%: possibly delisted; no timezone found')\n"
     ]
    },
    {
     "name": "stdout",
     "output_type": "stream",
     "text": [
      "Downloading data for EZJ...\n"
     ]
    },
    {
     "name": "stderr",
     "output_type": "stream",
     "text": [
      "[*********************100%***********************]  1 of 1 completed\n",
      "\n",
      "1 Failed download:\n",
      "['EZJ']: JSONDecodeError('Expecting value: line 1 column 1 (char 0)')\n"
     ]
    },
    {
     "name": "stdout",
     "output_type": "stream",
     "text": [
      "Downloading data for EXPN...\n"
     ]
    },
    {
     "name": "stderr",
     "output_type": "stream",
     "text": [
      "Failed to get ticker 'EXPN' reason: Expecting value: line 1 column 1 (char 0)\n",
      "[*********************100%***********************]  1 of 1 completed\n",
      "\n",
      "1 Failed download:\n",
      "['EXPN']: YFTzMissingError('$%ticker%: possibly delisted; no timezone found')\n"
     ]
    },
    {
     "name": "stdout",
     "output_type": "stream",
     "text": [
      "Downloading data for FCIT...\n"
     ]
    },
    {
     "name": "stderr",
     "output_type": "stream",
     "text": [
      "Failed to get ticker 'FCIT' reason: Expecting value: line 1 column 1 (char 0)\n",
      "[*********************100%***********************]  1 of 1 completed\n",
      "\n",
      "1 Failed download:\n",
      "['FCIT']: YFTzMissingError('$%ticker%: possibly delisted; no timezone found')\n"
     ]
    },
    {
     "name": "stdout",
     "output_type": "stream",
     "text": [
      "Downloading data for FRES...\n"
     ]
    },
    {
     "name": "stderr",
     "output_type": "stream",
     "text": [
      "[*********************100%***********************]  1 of 1 completed\n",
      "\n",
      "1 Failed download:\n",
      "['FRES']: JSONDecodeError('Expecting value: line 1 column 1 (char 0)')\n"
     ]
    },
    {
     "name": "stdout",
     "output_type": "stream",
     "text": [
      "Downloading data for GAW...\n"
     ]
    },
    {
     "name": "stderr",
     "output_type": "stream",
     "text": [
      "[*********************100%***********************]  1 of 1 completed\n",
      "\n",
      "1 Failed download:\n",
      "['GAW']: JSONDecodeError('Expecting value: line 1 column 1 (char 0)')\n",
      "Failed to get ticker 'GLEN' reason: Expecting value: line 1 column 1 (char 0)\n",
      "[*********************100%***********************]  1 of 1 completed\n",
      "\n",
      "1 Failed download:\n",
      "['GLEN']: YFTzMissingError('$%ticker%: possibly delisted; no timezone found')\n"
     ]
    },
    {
     "name": "stdout",
     "output_type": "stream",
     "text": [
      "Downloading data for GLEN...\n",
      "Downloading data for GSK...\n"
     ]
    },
    {
     "name": "stderr",
     "output_type": "stream",
     "text": [
      "[*********************100%***********************]  1 of 1 completed\n",
      "\n",
      "1 Failed download:\n",
      "['GSK']: JSONDecodeError('Expecting value: line 1 column 1 (char 0)')\n"
     ]
    },
    {
     "name": "stdout",
     "output_type": "stream",
     "text": [
      "Downloading data for HLN...\n"
     ]
    },
    {
     "name": "stderr",
     "output_type": "stream",
     "text": [
      "[*********************100%***********************]  1 of 1 completed\n",
      "\n",
      "1 Failed download:\n",
      "['HLN']: JSONDecodeError('Expecting value: line 1 column 1 (char 0)')\n"
     ]
    },
    {
     "name": "stdout",
     "output_type": "stream",
     "text": [
      "Downloading data for HLMA...\n"
     ]
    },
    {
     "name": "stderr",
     "output_type": "stream",
     "text": [
      "Failed to get ticker 'HLMA' reason: Expecting value: line 1 column 1 (char 0)\n",
      "[*********************100%***********************]  1 of 1 completed\n",
      "\n",
      "1 Failed download:\n",
      "['HLMA']: YFTzMissingError('$%ticker%: possibly delisted; no timezone found')\n"
     ]
    },
    {
     "name": "stdout",
     "output_type": "stream",
     "text": [
      "Downloading data for HL...\n"
     ]
    },
    {
     "name": "stderr",
     "output_type": "stream",
     "text": [
      "[*********************100%***********************]  1 of 1 completed\n",
      "\n",
      "1 Failed download:\n",
      "['HL']: JSONDecodeError('Expecting value: line 1 column 1 (char 0)')\n"
     ]
    },
    {
     "name": "stdout",
     "output_type": "stream",
     "text": [
      "Downloading data for HIK...\n"
     ]
    },
    {
     "name": "stderr",
     "output_type": "stream",
     "text": [
      "[*********************100%***********************]  1 of 1 completed\n",
      "\n",
      "1 Failed download:\n",
      "['HIK']: JSONDecodeError('Expecting value: line 1 column 1 (char 0)')\n"
     ]
    },
    {
     "name": "stdout",
     "output_type": "stream",
     "text": [
      "Downloading data for HSX...\n"
     ]
    },
    {
     "name": "stderr",
     "output_type": "stream",
     "text": [
      "[*********************100%***********************]  1 of 1 completed\n",
      "\n",
      "1 Failed download:\n",
      "['HSX']: JSONDecodeError('Expecting value: line 1 column 1 (char 0)')\n"
     ]
    },
    {
     "name": "stdout",
     "output_type": "stream",
     "text": [
      "Downloading data for HWDN...\n"
     ]
    },
    {
     "name": "stderr",
     "output_type": "stream",
     "text": [
      "Failed to get ticker 'HWDN' reason: Expecting value: line 1 column 1 (char 0)\n",
      "[*********************100%***********************]  1 of 1 completed\n",
      "\n",
      "1 Failed download:\n",
      "['HWDN']: YFTzMissingError('$%ticker%: possibly delisted; no timezone found')\n"
     ]
    },
    {
     "name": "stdout",
     "output_type": "stream",
     "text": [
      "Downloading data for HSBA...\n"
     ]
    },
    {
     "name": "stderr",
     "output_type": "stream",
     "text": [
      "Failed to get ticker 'HSBA' reason: Expecting value: line 1 column 1 (char 0)\n",
      "[*********************100%***********************]  1 of 1 completed\n",
      "\n",
      "1 Failed download:\n",
      "['HSBA']: YFTzMissingError('$%ticker%: possibly delisted; no timezone found')\n"
     ]
    },
    {
     "name": "stdout",
     "output_type": "stream",
     "text": [
      "Downloading data for IHG...\n"
     ]
    },
    {
     "name": "stderr",
     "output_type": "stream",
     "text": [
      "[*********************100%***********************]  1 of 1 completed\n",
      "\n",
      "1 Failed download:\n",
      "['IHG']: JSONDecodeError('Expecting value: line 1 column 1 (char 0)')\n"
     ]
    },
    {
     "name": "stdout",
     "output_type": "stream",
     "text": [
      "Downloading data for IMI...\n"
     ]
    },
    {
     "name": "stderr",
     "output_type": "stream",
     "text": [
      "Failed to get ticker 'IMI' reason: Expecting value: line 1 column 1 (char 0)\n",
      "[*********************100%***********************]  1 of 1 completed\n",
      "\n",
      "1 Failed download:\n",
      "['IMI']: YFTzMissingError('$%ticker%: possibly delisted; no timezone found')\n"
     ]
    },
    {
     "name": "stdout",
     "output_type": "stream",
     "text": [
      "Downloading data for IMB...\n"
     ]
    },
    {
     "name": "stderr",
     "output_type": "stream",
     "text": [
      "[*********************100%***********************]  1 of 1 completed\n",
      "\n",
      "1 Failed download:\n",
      "['IMB']: JSONDecodeError('Expecting value: line 1 column 1 (char 0)')\n"
     ]
    },
    {
     "name": "stdout",
     "output_type": "stream",
     "text": [
      "Downloading data for INF...\n"
     ]
    },
    {
     "name": "stderr",
     "output_type": "stream",
     "text": [
      "Failed to get ticker 'INF' reason: Expecting value: line 1 column 1 (char 0)\n",
      "[*********************100%***********************]  1 of 1 completed\n",
      "\n",
      "1 Failed download:\n",
      "['INF']: YFTzMissingError('$%ticker%: possibly delisted; no timezone found')\n"
     ]
    },
    {
     "name": "stdout",
     "output_type": "stream",
     "text": [
      "Downloading data for ICG...\n"
     ]
    },
    {
     "name": "stderr",
     "output_type": "stream",
     "text": [
      "[*********************100%***********************]  1 of 1 completed\n",
      "\n",
      "1 Failed download:\n",
      "['ICG']: JSONDecodeError('Expecting value: line 1 column 1 (char 0)')\n"
     ]
    },
    {
     "name": "stdout",
     "output_type": "stream",
     "text": [
      "Downloading data for IAG...\n"
     ]
    },
    {
     "name": "stderr",
     "output_type": "stream",
     "text": [
      "[*********************100%***********************]  1 of 1 completed\n",
      "\n",
      "1 Failed download:\n",
      "['IAG']: JSONDecodeError('Expecting value: line 1 column 1 (char 0)')\n"
     ]
    },
    {
     "name": "stdout",
     "output_type": "stream",
     "text": [
      "Downloading data for ITRK...\n"
     ]
    },
    {
     "name": "stderr",
     "output_type": "stream",
     "text": [
      "Failed to get ticker 'ITRK' reason: Expecting value: line 1 column 1 (char 0)\n",
      "[*********************100%***********************]  1 of 1 completed\n",
      "\n",
      "1 Failed download:\n",
      "['ITRK']: YFTzMissingError('$%ticker%: possibly delisted; no timezone found')\n"
     ]
    },
    {
     "name": "stdout",
     "output_type": "stream",
     "text": [
      "Downloading data for JD...\n"
     ]
    },
    {
     "name": "stderr",
     "output_type": "stream",
     "text": [
      "[*********************100%***********************]  1 of 1 completed\n",
      "\n",
      "1 Failed download:\n",
      "['JD']: JSONDecodeError('Expecting value: line 1 column 1 (char 0)')\n"
     ]
    },
    {
     "name": "stdout",
     "output_type": "stream",
     "text": [
      "Downloading data for KGF...\n"
     ]
    },
    {
     "name": "stderr",
     "output_type": "stream",
     "text": [
      "[*********************100%***********************]  1 of 1 completed\n",
      "\n",
      "1 Failed download:\n",
      "['KGF']: JSONDecodeError('Expecting value: line 1 column 1 (char 0)')\n"
     ]
    },
    {
     "name": "stdout",
     "output_type": "stream",
     "text": [
      "Downloading data for LAND...\n"
     ]
    },
    {
     "name": "stderr",
     "output_type": "stream",
     "text": [
      "[*********************100%***********************]  1 of 1 completed\n",
      "\n",
      "1 Failed download:\n",
      "['LAND']: JSONDecodeError('Expecting value: line 1 column 1 (char 0)')\n"
     ]
    }
   ],
   "source": [
    "#Tickers of \n",
    "ftse100_tickers = [\"ADM\", \"AAF\", \"ALW\", \"AAL\", \"ANTO\", \"AHT\", \"ABF\", \"AZN\", \"AUTO\", \"AV\", \n",
    "    \"BA\", \"BARC\", \"BTRW\", \"BEZ\", \"BKG\", \"BP\", \"BATS\", \"BLND\", \"BT-A\", \"BNZL\",\n",
    "     \"CNA\", \"CCH\", \"CPG\", \"CTEC\", \"CRDA\", \"DCC\", \"DGE\", \"DPLM\", \"EDV\", \"ENT\", \n",
    "    \"EZJ\", \"EXPN\", \"FCIT\", \"FRES\", \"GAW\", \"GLEN\", \"GSK\", \"HLN\", \"HLMA\", \"HL\",\n",
    "    \"HIK\", \"HSX\", \"HWDN\", \"HSBA\", \"IHG\", \"IMI\", \"IMB\", \"INF\", \"ICG\", \"IAG\", \n",
    "    \"ITRK\", \"JD\", \"KGF\", \"LAND\", \"LGEN\", \"LLOY\", \"LMP\", \"LSEG\", \"MNG\", \"MKS\", \n",
    "    \"MRO\", \"MNDI\", \"NG\", \"NWG\", \"NXT\", \"PSON\", \"PSH\", \"PSN\", \"PHNX\", \"PRU\", \n",
    "    \"RKT\", \"REL\", \"RTO\", \"RMV\", \"RIO\", \"RR\", \"SGE\", \"SBRY\", \"SDR\", \"SMT\", \n",
    "    \"SGRO\", \"SVT\", \"SHEL\", \"SMDS\", \"SMIN\", \"SN\", \"SPX\", \"SSE\", \"STAN\", \n",
    "    \"STJ\", \"TW\", \"TSCO\", \"ULVR\", \"UU\", \"UTG\", \"VOD\", \"WEIR\", \"WTB\", \"WPP\"\n",
    "]  \n",
    "\n",
    "ftse250_tickers = [\n",
    "    \"3IN\", \"FOUR\", \"ABDN\", \"ALFA\", \"ATT\", \"ALPH\", \"AO\", \"APAX\", \"ASHM\", \"DGN\",\n",
    "    \"AGR\", \"AML\", \"ATG\", \"AGT\", \"BME\", \"BAB\", \"BGFD\", \"USA\", \"BAKK\", \"BBY\", \n",
    "    \"BCG\", \"BNKR\", \"BGEO\", \"BAG\", \"BBGI\", \"AJB\", \"BBH\", \"BWY\", \"BHMG\", \"BYG\", \n",
    "    \"BRGE\", \"BRSC\", \"THRG\", \"BRWM\", \"BMY\", \"BSIF\", \"BOY\", \"BREE\", \"BPT\", \"BVIC\", \n",
    "    \"BUT\", \"BRBY\", \"BYIT\", \"CCR\", \"CLDN\", \"CGT\", \"CCL\", \"CHG\", \"CHRY\", \"CTY\", \n",
    "    \"CKN\", \"CMCX\", \"COA\", \"CCC\", \"CWK\", \"CRST\", \"CURY\", \"ROO\", \"DLN\", \"DLG\", \n",
    "    \"DSCV\", \"DEC\", \"DOM\", \"DWL\", \"DRX\", \"DOCS\", \"DNLM\", \"EDIN\", \"EWI\", \"ELM\", \n",
    "    \"ESP\", \"ENOG\", \"ESNT\", \"EOT\", \"ESCT\", \"FXPO\", \"FCSS\", \"FEML\", \"FEV\", \"FSV\", \n",
    "    \"FGT\", \"FGP\", \"FSG\", \"FSFL\", \"FRAS\", \"FUTR\", \"GCP\", \"GEN\", \"GNS\", \"GSCT\", \n",
    "    \"GDWN\", \"GFTU\", \"GRI\", \"GPE\", \"UKW\", \"GNC\", \"GRG\", \"HMSO\", \"HBR\", \"HVPE\", \n",
    "    \"HWG\", \"HAS\", \"HTWS\", \"HET\", \"HSL\", \"HRI\", \"HGT\", \"HICL\", \"HILS\", \"HFG\", \n",
    "    \"HOC\", \"BOWL\", \"HTG\", \"IBST\", \"ICGT\", \"IGG\", \"IEM\", \"INCH\", \"IHP\", \"IDS\", \n",
    "    \"INPP\", \"INVP\", \"IPO\", \"ITH\", \"ITV\", \"IWG\", \"JLEN\", \"JMAT\", \"JAM\", \"JMG\", \n",
    "    \"JEDT\", \"JGGI\", \"JII\", \"JFJ\", \"JTC\", \"JUP\", \"JUST\", \"KNOS\", \"KLR\", \"KIE\", \n",
    "    \"LRE\", \"LWDB\", \"EMG\", \"MSLH\", \"MEGP\", \"MRC\", \"MRCH\", \"MTRO\", \"MAB\", \"MTO\", \n",
    "    \"MCG\", \"GROW\", \"MONY\", \"MNKS\", \"MOON\", \"MGAM\", \"MGNS\", \"MUT\", \"MYI\", \"NBPE\", \n",
    "    \"NCC\", \"NESF\", \"N91\", \"NAS\", \"OCDO\", \"OSB\", \"OXIG\", \"ONT\", \"PHI\", \"PAGE\", \n",
    "    \"PIN\", \"PAG\", \"PPET\", \"PAY\", \"PNN\", \"PNL\", \"PHLL\", \"PETS\", \"PTEC\", \"PLUS\",\n",
    "    \"PCFT\", \"PCT\", \"PPH\", \"PFD\", \"PHP\", \"PRS\", \"QQ\", \"QLT\", \"RPI\", \"RAT\", \n",
    "    \"RWI\", \"RSW\", \"RHIM\", \"RCP\", \"ROR\", \"RS1\", \"RICA\", \"SAFE\", \"SVS\", \"SDP\", \n",
    "    \"SOI\", \"SAIN\", \"SEIT\", \"SNR\", \"SEQI\", \"SRP\", \"SHC\", \"SRE\", \"SSON\", \"SCT\", \n",
    "    \"SXS\", \"SPI\", \"SPT\", \"SSPG\", \"STEM\", \"SUPR\", \"SYNC\", \"THRL\", \"TATE\", \"TBCG\",\n",
    "    \"TEP\", \"TMPL\", \"TEM\", \"TRIG\", \"TIFS\", \"TCAP\", \"TRN\", \"TPK\", \"BBOX\", \"TRY\", \n",
    "    \"TRST\", \"TFIF\", \"SHED\", \"VSVS\", \"VCT\", \"VEIL\", \"VOF\", \"VTY\", \"FAN\", \"WPS\", \n",
    "    \"WOSG\", \"JDW\", \"SMWH\", \"WIZZ\", \"WG\", \"WKP\", \"WWH\", \"XPS\", \"ZIG\"\n",
    "]\n",
    "ftse350_tickers = [\n",
    "    'STEM', 'KNOS', 'BWY', 'ALPH', 'HOC', 'JD', 'FSG', 'BPT', 'FXPO', 'VTY', \n",
    "    'EWI', 'DWL', 'ONT', 'OCDO', 'HVPE', 'ROO', 'HBR', 'ELM', 'JTC', 'JUP', 'IPO',\n",
    "    'TPK', 'DRX', 'NCC', 'EDV', 'SYNC', 'QLT', 'SXS', 'PSH', 'STJ', 'SDR', 'AML',\n",
    "    'VSVS', 'RTO', 'APAX', 'ESNT', 'MRC', 'OXIG', 'MNDI', 'MSLH', 'BSIF', 'ENOG',\n",
    "    'PLUS', 'MRO', 'SGRO', 'PNN', 'JUST', 'GCP', 'SAIN', 'BRBY', 'FAN', 'OSB', 'ABDN',\n",
    "    'BME', 'CKN', 'PHNX', 'SSPG', 'PSN', 'ZIG', 'IWG', 'RS1', 'GEN', 'CRST', 'KLR',\n",
    "    'TMPL', 'CWK', 'NAS', 'SMT', 'AGT', 'ASHM', 'RSW', 'INCH', 'BP', 'BBOX', 'VOD',\n",
    "    'BOY', 'ITRK', 'BYIT', 'HFG', 'MGNS', 'EOT', 'THRG', 'HMSO', 'VOF', 'SSON', 'AGR',\n",
    "    'MOON', 'PHP', 'BTRW', 'FEML', 'SHEL', 'WG', 'BAKK', 'GRG', 'RWI', 'SVS', 'BREE',\n",
    "    'LWDB', 'GRI', 'MCG', 'ESP', 'VEIL', 'EMG', 'GFTU', 'HGT', 'KGF', 'SEIT', 'TEP',\n",
    "    'BLND', 'COA', 'ITH', 'BARC', 'DSCV', 'ICG', 'USA', 'DNLM', 'TRN', 'FUTR', 'AAL',\n",
    "    'WIZZ', 'HICL', 'DOCS', 'LGEN', 'BOWL', 'FSFL', 'MTRO', 'GNS', 'PAY', 'JII', 'TW',\n",
    "    'BRWM', 'DOM', 'FEV', 'RIO', 'GAW', 'BBGI', 'HSL', 'MNKS', 'SPI', 'MUT', 'GROW',\n",
    "    'UKW', 'PPET', 'KIE', 'PAG', 'EDIN', 'HWDN', 'PPH', 'MNG', 'INF', 'GPE', 'MAB',\n",
    "    'BUT', 'ITV', 'INVP', 'PHLL', 'RCP', 'INPP', 'MYI', 'BBY', 'FGEN', 'RAT', 'HILS',\n",
    "    'N91', 'PFD', 'FSV', 'SPX', 'BYG', 'VCT', 'GSK', 'SN', 'DGE', 'CHRY', 'SMWH', 'BKG',\n",
    "    'CRDA', 'LRE', 'ADM', 'MRCH', 'ENT', 'FCSS', 'WPP', 'BMY', 'JAM', 'FRES', 'BRSC',\n",
    "    'HLN', 'CCC', 'BBH', 'PCFT', 'SRE', 'CNA', 'TRIG', 'CTEC', 'CTY', 'HAS', 'ALW',\n",
    "    'TRY', 'IBST', 'DLG', 'SEQI', 'JMAT', 'HSX', 'JMG', 'MGAM', 'BRGE', 'TSCO', 'DGN',\n",
    "    'AV', 'ROR', 'PTEC', 'PHI', 'REL', 'CURY', 'AHT', 'NG', 'DEC', 'LMP', 'DPLM', 'LLOY',\n",
    "    'IEM', 'PAGE', 'RPI', 'NESF', 'LAND', 'ATT', 'PRU', 'SCT', 'SHED', 'SMIN', 'AUTO',\n",
    "    'CCL', 'FRAS', 'AZN', 'CLDN', 'UU', 'AJB', 'ASL', 'RKT', 'WOSG', 'CGT', 'EXPN',\n",
    "    'NWG', 'SBRY', 'PETS', 'BT.A', 'HSBA', 'HIK', 'PCT', 'HRI', 'PNL', 'STAN', 'UTG',\n",
    "    'TFIF', 'GSCT', 'BEZ', 'MONY', 'MTO', 'ATG', 'JFJ', 'ESCT', 'BNKR', 'ABF', 'CPG',\n",
    "    'JEDT', 'IDS', 'TBCG', 'BGEO', 'GLEN', 'PIN', 'RHIM', 'BA', 'IGG', 'XPS', 'ULVR',\n",
    "    'NBPE', 'QQ', 'SVT', 'ALFA', 'WKP', 'CMCX', 'SRP', 'TCAP', 'SDP', 'BAB', 'BATS',\n",
    "    'JDW', 'BAG', 'THRL', 'HTWS',\n",
    "\n",
    "]\n",
    "# define a class for data retrival\n",
    "class Stock_Processor:\n",
    "    def __init__(self):\n",
    "        self.data = 0\n",
    "    def download_stock_data(self, tickers, start_date=\"2010-01-01\", end_date=\"2023-12-31\", interval=\"1d\"):\n",
    "        all_data = {}\n",
    "        for ticker in tickers:\n",
    "            print(f\"Downloading data for {ticker}...\")\n",
    "            try:\n",
    "                stock_data = yf.download(ticker, start=start_date, end=end_date, interval=interval)\n",
    "                all_data[ticker] = stock_data\n",
    "            except Exception as e:\n",
    "                print(f\"Error downloading data for {ticker}: {e}\")\n",
    "        return all_data\n",
    "    \n",
    "    def download_financial_ratio(self, tickers, start_date=\"2010-01-01\", end_date=\"2023-12-31\", interval=\"1d\"):\n",
    "        all_data = {}\n",
    "        for ticker in tickers:\n",
    "            stock = yf.Ticker(ticker)\n",
    "            info = stock.info\n",
    "            print(f\"Downloading data for {ticker}...\")\n",
    "            try:\n",
    "                ticker_ratios = {\n",
    "            \"Trailing P/E\": info.get('trailingPE'),\n",
    "            \"Forward P/E\": info.get('forwardPE'),\n",
    "            \"Price-to-Book\": info.get('priceToBook'),\n",
    "            \"Debt-to-Equity\": info.get('debtToEquity'),\n",
    "            \"Return on Equity (ROE)\": info.get('returnOnEquity'),\n",
    "            \"Beta\": info.get('beta'),\n",
    "            \"Average Volume\": info.get('averageVolume'),\n",
    "            \"Volume (Current)\": info.get('volume')\n",
    "            }\n",
    "                all_data[ticker] = ticker_ratios\n",
    "            except Exception as e:\n",
    "                print(f\"Error downloading data for {ticker}: {e}\")\n",
    "        return all_data\n",
    "                \n",
    "processor = Stock_Processor()\n",
    "    \n",
    "\n",
    "# Download price data for stocks in FTSE 100, FTSE 250 and FTSE350 on daily and hourly intervals\n",
    "ftse100_data_daily = processor.download_stock_data(ftse100_tickers,interval=\"1d\")\n",
    "ftse250_data_daily = processor.download_stock_data(ftse250_tickers,interval=\"1d\")\n",
    "ftse350_data_daily = processor.download_stock_data(ftse350_tickers,interval=\"1d\")\n",
    "\n",
    "ftse100_data_hourly = processor.download_stock_data(ftse100_tickers,interval=\"1h\")\n",
    "ftse250_data_hourly = processor.download_stock_data(ftse250_tickers,interval=\"1h\")\n",
    "ftse350_data_hourly = processor.download_stock_data(ftse350_tickers,interval=\"1h\")\n",
    "\n",
    "#Download financial ratio data for FTSE 100, FTSE 250 and FTSE350 on daily and hourly intervals\n",
    "\n",
    "ftse100_fin_data_daily = processor.download_financial_ratio(ftse100_tickers,interval=\"1d\")\n",
    "ftse250_fin_data_daily = processor.download_financial_ratio(ftse250_tickers,interval=\"1d\")\n",
    "ftse350_fin_data_daily = processor.download_financial_ratio(ftse350_tickers,interval=\"1d\")\n",
    "\n",
    "ftse100_fin_data_hourly = processor.download_financial_ratio(ftse100_tickers,interval=\"1h\")\n",
    "ftse250_fin_data_hourly = processor.download_financial_ratio(ftse250_tickers,interval=\"1h\")\n",
    "ftse350_fin_data_hourly = processor.download_financial_ratio(ftse350_tickers,interval=\"1h\")\n",
    "\n",
    "\n",
    "\n",
    "# Combine price data into a single DataFrame for analysis if needed\n",
    "ftse100_daily_combined = pd.concat({ticker: data['Close'] for ticker, data in ftse100_data_daily.items()}, axis=1)\n",
    "ftse250_daily_combined = pd.concat({ticker: data['Close'] for ticker, data in ftse250_data_daily.items()}, axis=1)\n",
    "ftse350_daily_combined = pd.concat({ticker: data['Close'] for ticker, data in ftse350_data_daily.items()}, axis=1)\n",
    "\n",
    "ftse100_hourly_combined = pd.concat({ticker: data['Close'] for ticker, data in ftse100_data_hourly.items()}, axis=1)\n",
    "ftse250_hourly_combined = pd.concat({ticker: data['Close'] for ticker, data in ftse250_data_hourly.items()}, axis=1)\n",
    "ftse350_hourly_combined = pd.concat({ticker: data['Close'] for ticker, data in ftse350_data_hourly.items()}, axis=1)\n",
    "\n",
    "# Save price data to CSV files for later use\n",
    "Output_path = '/Users/perryhui/Desktop/Pairs Trading'\n",
    "\n",
    "ftse100_daily_combined.to_csv(Output_path + \"FTSE100_data_daily.csv\")\n",
    "ftse250_daily_combined.to_csv(Output_path + \"FTSE250_data_daily.csv\")\n",
    "ftse350_daily_combined.to_csv(Output_path + \"FTSE350_data_daily.csv\")\n",
    "\n",
    "ftse100_hourly_combined.to_csv(Output_path + \"FTSE100_data_hourly.csv\")\n",
    "ftse250_hourly_combined.to_csv(Output_path + \"FTSE250_data_hourly.csv\")\n",
    "ftse350_hourly_combined.to_csv(Output_path + \"FTSE350_data_hourly.csv\")\n",
    "\n",
    "# Save finanical ratio data to CSV files for later use\n",
    "ftse100_fin_data_daily.to_csv(Output_path + 'FTSE100_data_daily_financial.csv')\n",
    "ftse250_fin_data_daily.to_csv(Output_path + 'FTSE250_data_daily_financial.csv')\n",
    "ftse350_fin_data_daily.to_csv(Output_path + 'FTSE0_data_daily_financial.csv')\n",
    "\n",
    "ftse100_fin_data_hourly.to_csv(Output_path + 'FTSE100_data_hourly_financial.csv')\n",
    "ftse250_fin_data_hourly.to_csv(Output_path + 'FTSE250_data_hourly_financial.csv')\n",
    "ftse350_fin_data_hourly.to_csv(Output_path + 'FTSE350_data_hourly_financial.csv')\n",
    "\n",
    "\n",
    "# Please note that with the Public API (without authentication), you are limited to 2,000 requests per hour per IP (or up to a total of 48,000 requests a day)\n",
    "# and that the Private API (with OAuth authentication using an API Key), you are limited to 20,000 requests per hour per IP and you are limited to 100,000 requests per day per API Key.\n",
    "# The use of cocurrent.future will result in a temporary ban "
   ]
  },
  {
   "cell_type": "markdown",
   "id": "8ebbb7e5",
   "metadata": {},
   "source": [
    "# Data Cleansing\n",
    "In this step, we shall first discount stocks that are merged, delisted or exchanged in the sample period; stocks with more than half missing data across the training period are also discounted. In practice, stocks with negative prices as well as low trading volume should also be discounted. But since none of the stocks investigated show such chracteristics, we will ignore it for now.  "
   ]
  },
  {
   "cell_type": "code",
   "execution_count": null,
   "id": "56f89315",
   "metadata": {},
   "outputs": [],
   "source": []
  }
 ],
 "metadata": {
  "kernelspec": {
   "display_name": "base",
   "language": "python",
   "name": "python3"
  },
  "language_info": {
   "codemirror_mode": {
    "name": "ipython",
    "version": 3
   },
   "file_extension": ".py",
   "mimetype": "text/x-python",
   "name": "python",
   "nbconvert_exporter": "python",
   "pygments_lexer": "ipython3",
   "version": "3.12.2"
  }
 },
 "nbformat": 4,
 "nbformat_minor": 5
}
